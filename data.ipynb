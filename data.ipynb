{
 "metadata": {
  "language_info": {
   "codemirror_mode": {
    "name": "ipython",
    "version": 3
   },
   "file_extension": ".py",
   "mimetype": "text/x-python",
   "name": "python",
   "nbconvert_exporter": "python",
   "pygments_lexer": "ipython3",
   "version": "3.6.9"
  },
  "orig_nbformat": 2,
  "kernelspec": {
   "name": "python36964bitceadaa28968946d7b902474a4f6f81b5",
   "display_name": "Python 3.6.9 64-bit"
  },
  "metadata": {
   "interpreter": {
    "hash": "31f2aee4e71d21fbe5cf8b01ff0e069b9275f58929596ceb00d14d90e3e16cd6"
   }
  }
 },
 "nbformat": 4,
 "nbformat_minor": 2,
 "cells": [
  {
   "cell_type": "code",
   "execution_count": 1,
   "metadata": {},
   "outputs": [],
   "source": [
    "import pandas as pd\n",
    "import numpy as np"
   ]
  },
  {
   "cell_type": "code",
   "execution_count": 89,
   "metadata": {},
   "outputs": [],
   "source": [
    "def score(p, N_t, t):\n",
    "    return p * 10000 - (20 * N_t + (t / 10))\n",
    "\n",
    "def penalty(t_a, N_n):\n",
    "    return 2 * t_a + 500 * N_n\n",
    "\n",
    "def distance_between(df, stat1, stat2):\n",
    "    dist1 = df[(df[\"Station1\"] == stat1) & (df[\"Station2\"] == stat2)][\"Time\"]\n",
    "    if dist1.empty:\n",
    "        return float(df[(df[\"Station2\"] == stat1) & (df[\"Station1\"] == stat2)][\"Time\"])\n",
    "    else:\n",
    "        return float(dist1)\n",
    "\n",
    "def gettime(traj):\n",
    "    tally = 0\n",
    "    for j in range(len(traj) - 1):\n",
    "        tally += distance_between(df_times, traj[j], traj[j + 1])"
   ]
  },
  {
   "cell_type": "code",
   "execution_count": 6,
   "metadata": {},
   "outputs": [
    {
     "output_type": "stream",
     "name": "stdout",
     "text": [
      "                   Station  Latitude Longitude\nAlkmaar          52.637779  4.739722  Critical\nAlmelo           52.358055  6.653889       NaN\nAlmere Centrum   52.375030  5.217640       NaN\nAlphen a/d Rijn  52.124443  4.657778       NaN\nAmersfoort       52.153889  5.370555       NaN\n"
     ]
    }
   ],
   "source": [
    "df_stations = pd.read_csv(\"Stations.csv\",  names=['Station', 'Latitude', 'Longitude'])\n",
    "df_times = pd.read_csv(\"Connection_Times.csv\",  names=['Station1', 'Station2', 'Time'])\n",
    "\n",
    "print(df_stations.head())"
   ]
  },
  {
   "cell_type": "code",
   "execution_count": 28,
   "metadata": {},
   "outputs": [
    {
     "output_type": "stream",
     "name": "stdout",
     "text": [
      "            Station1          Station2  Time\n0            Alkmaar             Hoorn  24.0\n1            Alkmaar        Den Helder  36.0\n2             Almelo           Hengelo  10.0\n3     Almere Centrum  Lelystad Centrum  14.0\n4   Amsterdam Amstel    Almere Centrum  27.0\n..               ...               ...   ...\n84            Zwolle        Amersfoort  35.0\n85            Zwolle          Deventer  24.0\n86            Zwolle            Almelo  42.0\n87   s-Hertogenbosch               Oss  11.0\n88   s-Hertogenbosch           Tilburg  15.0\n\n[89 rows x 3 columns]\n"
     ]
    }
   ],
   "source": [
    "print(df_times)"
   ]
  },
  {
   "cell_type": "code",
   "execution_count": 77,
   "metadata": {},
   "outputs": [
    {
     "output_type": "stream",
     "name": "stdout",
     "text": [
      "Series([], Name: Time, dtype: float64)\nDen Haag Centraal Leiden Centraal\n27    12.0\nName: Time, dtype: float64\nLeiden Centraal Schiphol Airport\n51    15.0\nName: Time, dtype: float64\nSchiphol Airport Amsterdam Sloterdijk\nSeries([], Name: Time, dtype: float64)\nAmsterdam Sloterdijk Amsterdam Centraal\n9    6.0\nName: Time, dtype: float64\nAmsterdam Centraal Almere\nSeries([], Name: Time, dtype: float64)\nAlmere Lelystad\nSeries([], Name: Time, dtype: float64)\nGroningen Assen\n42    17.0\nName: Time, dtype: float64\nAssen Zwolle\n18    40.0\nName: Time, dtype: float64\nZwolle Amersfoort\n84    35.0\nName: Time, dtype: float64\nAmersfoort Utrecht Centraal\n74    14.0\nName: Time, dtype: float64\nUtrecht Centraal s'Hertogenbosch\nSeries([], Name: Time, dtype: float64)\ns'Hertogenbosch Eindhoven\nSeries([], Name: Time, dtype: float64)\nEindhoven Weert\n79    17.0\nName: Time, dtype: float64\nDen Helder Alkmaar\n1    36.0\nName: Time, dtype: float64\nAlkmaar Hoorn\n0    24.0\nName: Time, dtype: float64\nHoorn Zaandam\n80    26.0\nName: Time, dtype: float64\nZaandam Beverwijk\n82    25.0\nName: Time, dtype: float64\nBeverwijk Haarlem\n43    16.0\nName: Time, dtype: float64\nHaarlem Sloterdijk\nSeries([], Name: Time, dtype: float64)\nSloterdijk Amsterdam Centraal\nSeries([], Name: Time, dtype: float64)\nAmsterdam Centraal Amsterdam Amstel\n5    8.0\nName: Time, dtype: float64\nAmsterdam Amstel Hilversum\n7    28.0\nName: Time, dtype: float64\n"
     ]
    }
   ],
   "source": [
    "print(distance_between(df_times, \"Schiphol Airport\", \"Amsterdam Sloterdijk\"))\n",
    "\n",
    "# sced_test = [[\"Den Haag Centraal\" , \"Leiden Centraal\" , \"Schiphol Airport\" , \"Amsterdam Sloterdijk\" , \"Amsterdam Centraal\" , \"Centraal Almere\" , \"Lelystad\"], [\"Groningen\" , \"Assen\" , \"Zwolle\" , \"Amersfoort\" , \"Utrecht Centraal\" , \"s'Hertogenbosch\" , \"Eindhoven\" , \"Weert\"], [\"Den Helder\" , \"Alkmaar\" , \"Hoorn\" , \"Zaandam\" , \"Beverwijk\" , \"Haarlem\" , \"Sloterdijk\" , \"Amsterdam Centraal\" , \"Amsterdam Amstel\" , \"Hilversum\"]]\n",
    "\n",
    "# traj_sum = [0, 0, 0]\n",
    "\n",
    "# for i, traj in enumerate(sced_test):\n",
    "#     for j in range(len(traj) - 1):\n",
    "#         print(traj[j], traj[j + 1])\n",
    "#         print(distance_between(df_times, traj[j], traj[j + 1]))\n",
    "        # dist = distance_between(df_times, traj[j], traj[j + 1])\n",
    "        # traj_sum[i] += dist"
   ]
  },
  {
   "cell_type": "code",
   "execution_count": 90,
   "metadata": {},
   "outputs": [
    {
     "output_type": "error",
     "ename": "TypeError",
     "evalue": "'<' not supported between instances of 'NoneType' and 'int'",
     "traceback": [
      "\u001b[0;31m---------------------------------------------------------------------------\u001b[0m",
      "\u001b[0;31mTypeError\u001b[0m                                 Traceback (most recent call last)",
      "\u001b[0;32m<ipython-input-90-ca20be0ce074>\u001b[0m in \u001b[0;36m<module>\u001b[0;34m\u001b[0m\n\u001b[1;32m      4\u001b[0m \u001b[0mtraj\u001b[0m \u001b[0;34m=\u001b[0m \u001b[0;34m[\u001b[0m\u001b[0;34m]\u001b[0m\u001b[0;34m\u001b[0m\u001b[0;34m\u001b[0m\u001b[0m\n\u001b[1;32m      5\u001b[0m \u001b[0;34m\u001b[0m\u001b[0m\n\u001b[0;32m----> 6\u001b[0;31m \u001b[0;32mwhile\u001b[0m \u001b[0mgettime\u001b[0m\u001b[0;34m(\u001b[0m\u001b[0mtraj\u001b[0m\u001b[0;34m)\u001b[0m \u001b[0;34m<\u001b[0m \u001b[0;36m180\u001b[0m\u001b[0;34m:\u001b[0m\u001b[0;34m\u001b[0m\u001b[0;34m\u001b[0m\u001b[0m\n\u001b[0m\u001b[1;32m      7\u001b[0m     \u001b[0mind\u001b[0m \u001b[0;34m=\u001b[0m \u001b[0mnp\u001b[0m\u001b[0;34m.\u001b[0m\u001b[0mrandom\u001b[0m\u001b[0;34m.\u001b[0m\u001b[0mrandint\u001b[0m\u001b[0;34m(\u001b[0m\u001b[0mnum_stats\u001b[0m\u001b[0;34m)\u001b[0m\u001b[0;34m\u001b[0m\u001b[0;34m\u001b[0m\u001b[0m\n\u001b[1;32m      8\u001b[0m     \u001b[0;32mif\u001b[0m \u001b[0mstats\u001b[0m\u001b[0;34m[\u001b[0m\u001b[0mi\u001b[0m\u001b[0;34m]\u001b[0m \u001b[0;32mnot\u001b[0m \u001b[0;32min\u001b[0m \u001b[0mtraj\u001b[0m\u001b[0;34m:\u001b[0m\u001b[0;34m\u001b[0m\u001b[0;34m\u001b[0m\u001b[0m\n",
      "\u001b[0;31mTypeError\u001b[0m: '<' not supported between instances of 'NoneType' and 'int'"
     ]
    }
   ],
   "source": [
    "stats = list(df_stations.index.unique())\n",
    "num_stats = len(stats)\n",
    "\n",
    "traj = []\n",
    "\n",
    "while gettime(traj) < 180:\n",
    "    ind = np.random.randint(num_stats)    \n",
    "    if stats[i] not in traj: \n",
    "        traj.append(stats[i])\n",
    "        "
   ]
  }
 ]
}